{
 "cells": [
  {
   "cell_type": "code",
   "execution_count": null,
   "metadata": {
    "id": "eJD3i4K-M44G"
   },
   "outputs": [],
   "source": [
    "!pip3 install kymatio\n",
    "!pip3 install scikit-cuda\n",
    "!pip uninstall --y torchvision\n",
    "!pip install torch==1.7.0 torchvision==0.8.0\n",
    "import numpy as np \n",
    "import os,csv\n",
    "import numpy as np\n",
    "import torch.nn as nn\n",
    "import torch.nn.functional as F\n",
    "import torch\n",
    "from torch.utils.data import Dataset, DataLoader\n",
    "import matplotlib.pyplot as plt\n",
    "from torchsummary import summary\n",
    "import random\n",
    "from torchvision import transforms\n",
    "import torch.optim\n",
    "from PIL import Image\n",
    "from kymatio.torch import Scattering2D\n",
    "import pickle\n",
    "from sklearn.model_selection import train_test_split"
   ]
  },
  {
   "cell_type": "code",
   "execution_count": null,
   "metadata": {
    "id": "QInbshkq9pQj"
   },
   "outputs": [],
   "source": [
    "# !unzip -q /content/drive/MyDrive/cv/DUNET-HC-18_Data/DUNET.zip -d /content/drive/MyDrive/cv/DUNET-HC-18_Data/"
   ]
  },
  {
   "cell_type": "code",
   "execution_count": null,
   "metadata": {
    "colab": {
     "base_uri": "https://localhost:8080/"
    },
    "id": "jHz0llCf6GHH",
    "outputId": "0e5e517d-0169-42bd-f0f9-c467520be357"
   },
   "outputs": [
    {
     "name": "stdout",
     "output_type": "stream",
     "text": [
      "Mounted at /content/drive\n"
     ]
    }
   ],
   "source": [
    "import csv\n",
    "from google.colab import drive\n",
    "drive.mount('/content/drive', force_remount=True)\n",
    "# 4/1AY0e-g4UbHq_CkCkQLG7ug0yUnXepWmT7pS_gsiVPgrnh2-PU7RKqA7JzTk|"
   ]
  },
  {
   "cell_type": "code",
   "execution_count": null,
   "metadata": {
    "id": "sNVore1xWPVO"
   },
   "outputs": [],
   "source": [
    "import numpy as np \n",
    "import os,csv\n",
    "import numpy as np\n",
    "import torch.nn as nn\n",
    "import torch.nn.functional as F\n",
    "import torch\n",
    "from torch.utils.data import Dataset, DataLoader\n",
    "import matplotlib.pyplot as plt\n",
    "from torchsummary import summary\n",
    "import random\n",
    "from torchvision import transforms\n",
    "import torch.optim\n",
    "from PIL import Image\n",
    "from kymatio.torch import Scattering2D\n",
    "import pickle\n",
    "from sklearn.model_selection import train_test_split"
   ]
  },
  {
   "cell_type": "code",
   "execution_count": null,
   "metadata": {
    "colab": {
     "base_uri": "https://localhost:8080/"
    },
    "id": "HmN017v1NII2",
    "outputId": "b425a0f2-558c-4083-c725-54a35723830c"
   },
   "outputs": [
    {
     "name": "stdout",
     "output_type": "stream",
     "text": [
      "cuda:0\n"
     ]
    }
   ],
   "source": [
    "device = torch.device(\"cuda:0\" if torch.cuda.is_available() else \"cpu\")\n",
    "print(device)"
   ]
  },
  {
   "cell_type": "markdown",
   "metadata": {
    "id": "TqD_2F5DWDlT"
   },
   "source": [
    "#DUNET"
   ]
  },
  {
   "cell_type": "code",
   "execution_count": null,
   "metadata": {
    "id": "zfEADlnAyEj3"
   },
   "outputs": [],
   "source": [
    "NUM_EPOCHS = 25\n",
    "BATCH_SIZE = 4\n",
    "LEARNING_RATE = 1e-3"
   ]
  },
  {
   "cell_type": "code",
   "execution_count": null,
   "metadata": {
    "id": "wYB0sPsryqRR"
   },
   "outputs": [],
   "source": [
    "def getImageName(filename):\n",
    "    imageName = filename[:-4] + '_Annotation.png'\n",
    "    return imageName\n",
    "\n",
    "# scattering = Scattering2D(J=2, shape=(544, 800), backend='torch_skcuda')\n",
    "scattering = Scattering2D(J=2, shape=(544, 800))\n",
    "scattering.cuda()\n",
    "\n",
    "def scatter_img(img):\n",
    "  return scattering(img)"
   ]
  },
  {
   "cell_type": "code",
   "execution_count": null,
   "metadata": {
    "id": "tNXJ6aMzGK3z"
   },
   "outputs": [],
   "source": [
    "# x = torch.randn(1,544,800)\n",
    "# b = scattering(x.cuda()).squeeze(dim=0)\n",
    "# print(b.shape)"
   ]
  },
  {
   "cell_type": "code",
   "execution_count": null,
   "metadata": {
    "id": "TrPLU36Vw-DH"
   },
   "outputs": [],
   "source": [
    "class HeadDataset(Dataset):\n",
    "    def __init__(self, image_path, mask_path, files, transform=None):\n",
    "        self.image_path = image_path\n",
    "        self.mask_path = mask_path\n",
    "        self.files = files\n",
    "        self.transform = transform\n",
    "        \n",
    "    def __len__(self):\n",
    "        return len(self.files)\n",
    "        \n",
    "    def __getitem__(self, idx):\n",
    "        \n",
    "        if torch.is_tensor(idx):\n",
    "            idx = idx.tolist()\n",
    "            \n",
    "        \n",
    "        img_name = os.path.join(self.image_path,self.files[idx])\n",
    "        mask_name = os.path.join(self.mask_path,getImageName(self.files[idx]))\n",
    "        \n",
    "        image = Image.open(img_name).convert('L')\n",
    "        mask = Image.open(mask_name).convert('L')\n",
    "        if self.transform:\n",
    "            image = self.transform(image)\n",
    "            mask = self.transform(mask)\n",
    "        image = image.to(device=device)\n",
    "        mask = mask.to(device=device)\n",
    "        scattering = scatter_img(image).squeeze(dim=0).detach()\n",
    "        sample = {'image': image, 'mask': mask, 'scatter': scattering}\n",
    "        return sample"
   ]
  },
  {
   "cell_type": "code",
   "execution_count": null,
   "metadata": {
    "id": "HMyEeveuxArF"
   },
   "outputs": [],
   "source": [
    "# base_folder = '/content/drive/MyDrive/hc18/training_set'\n",
    "base_folder = '/content/drive/MyDrive/cv/DUNET-HC-18_Data/DUNET/hc18/training_set/training_set'\n",
    "image_folder = base_folder\n",
    "mask_folder = base_folder"
   ]
  },
  {
   "cell_type": "code",
   "execution_count": null,
   "metadata": {
    "id": "BtvSKb4p0HKq"
   },
   "outputs": [],
   "source": [
    "traindir='/content/drive/MyDrive/cv/DUNET-HC-18_Data/DUNET/hc18/training_set/training_set'\n",
    "i=0\n",
    "trainname=[]\n",
    "start=0\n",
    "# with open(\"/content/drive/MyDrive/hc18/training_set_pixel_size_and_HC.csv\",'r') as s:\n",
    "with open(\"/content/drive/MyDrive/cv/DUNET-HC-18_Data/training_set_pixel_size_and_HC.csv\",'r') as s:\n",
    "    r=csv.reader(s)\n",
    "    for com in r:\n",
    "        if (start>20):\n",
    "          break\n",
    "        start+=1\n",
    "        if i==0:\n",
    "            i+=1\n",
    "        else:\n",
    "            i+=1\n",
    "            trainname.append(com[0])\n",
    "files=trainname"
   ]
  },
  {
   "cell_type": "code",
   "execution_count": null,
   "metadata": {
    "id": "KYbQs3Ur0rih"
   },
   "outputs": [],
   "source": [
    "transform = transforms.Compose([\n",
    "    transforms.Resize((544, 800)),\n",
    "    transforms.ToTensor()\n",
    "])"
   ]
  },
  {
   "cell_type": "code",
   "execution_count": null,
   "metadata": {
    "id": "eaq_bcNaxI72"
   },
   "outputs": [],
   "source": [
    "# train, val = train_test_split(files, test_size = 0.2)\n",
    "# with open('/content/drive/MyDrive/cv/anushree/HC-18/train.pkl', 'wb') as fid:\n",
    "#     pickle.dump(train, fid)\n",
    "# with open('/content/drive/MyDrive/cv/anushree/HC-18/val.pkl', 'wb') as fid:\n",
    "#     pickle.dump(val, fid)\n",
    "\n",
    "with open('/content/drive/MyDrive/cv/anushree/HC-18/train.pkl', 'rb') as fid:\n",
    "    train = pickle.load(fid)\n",
    "with open('/content/drive/MyDrive/cv/anushree/HC-18/val.pkl', 'rb') as fid:\n",
    "    val = pickle.load(fid)\n",
    "    \n",
    "Head_Train_Dataset = HeadDataset(image_folder,mask_folder,train,transform)\n",
    "trainLoader = DataLoader(Head_Train_Dataset, batch_size=BATCH_SIZE,shuffle=True)\n",
    "\n",
    "Val_Dataset = HeadDataset(image_folder,mask_folder,val,transform)\n",
    "valLoader = DataLoader(Val_Dataset, batch_size=BATCH_SIZE,shuffle=True)\n",
    "# DME_Val_Dataset = DMEDataset(val_frame_path,val_masks_path)\n",
    "# DME_Test_Dataset = DMEDataset(test_frame_path,test_masks_path)\n",
    "# valDataSet = DataLoader(DME_Val_Dataset, batch_size=1,shuffle=True)\n",
    "# testDataSet = DataLoader(DME_Test_Dataset, batch_size=1,shuffle=True)"
   ]
  },
  {
   "cell_type": "code",
   "execution_count": null,
   "metadata": {
    "id": "RN5y1AnPxMcB"
   },
   "outputs": [],
   "source": [
    "class diceloss(torch.nn.Module):\n",
    "    def init(self):\n",
    "        super(diceLoss, self).init()\n",
    "    def forward(self, target, pred):\n",
    "       smooth = 1.\n",
    "       iflat = pred.contiguous().view(-1)\n",
    "       tflat = target.contiguous().view(-1)\n",
    "       intersection = (iflat * tflat).sum()\n",
    "       A_sum = torch.sum(iflat * iflat)\n",
    "       B_sum = torch.sum(tflat * tflat)\n",
    "       return 1 - ((2. * intersection + smooth) / (A_sum + B_sum + smooth))"
   ]
  },
  {
   "cell_type": "code",
   "execution_count": null,
   "metadata": {
    "id": "fc8c8nNRxpmG"
   },
   "outputs": [],
   "source": [
    "class Dunet(nn.Module):\n",
    "    def __init__(self):\n",
    "        super(Dunet, self).__init__()\n",
    "       \n",
    "        self.encoder_1 = nn.Sequential(\n",
    "            nn.Conv2d(1, 64, 3, padding=1),   \n",
    "            nn.BatchNorm2d(64), nn.ReLU(True),\n",
    "            nn.Conv2d(64, 64, 3, padding=1),   \n",
    "            nn.MaxPool2d(2, stride=2), nn.ReLU(True)\n",
    "        )\n",
    "        self.encoder_2 = nn.Sequential(\n",
    "            nn.Conv2d(64, 128, 3, padding=1),   \n",
    "            nn.BatchNorm2d(128), nn.ReLU(True),\n",
    "            nn.Conv2d(128, 128, 3, padding=1),\n",
    "            nn.MaxPool2d(2, stride=2),  nn.ReLU(True)\n",
    "        )\n",
    "        self.encoder_3 = nn.Sequential(\n",
    "            nn.Conv2d(128, 256, 3, padding=1),\n",
    "            nn.BatchNorm2d(256),   nn.ReLU(True),\n",
    "            nn.Conv2d(256, 256, 3, padding=1),  \n",
    "            nn.MaxPool2d(2, stride=2),  nn.ReLU(True)\n",
    "        )\n",
    "        self.encoder_4 = nn.Sequential(\n",
    "            nn.Conv2d(256, 512, 3, padding=1),   \n",
    "            nn.BatchNorm2d(512),  nn.ReLU(True),\n",
    "            nn.Conv2d(512, 512, 3, padding=1),   \n",
    "            nn.MaxPool2d(2, stride=2),  nn.ReLU(True)\n",
    "        )\n",
    "        self.encoder_5 = nn.Sequential(\n",
    "            nn.Conv2d(512, 1024, 3, padding=1),   \n",
    "            nn.BatchNorm2d(1024),   nn.ReLU(True),\n",
    "            nn.Conv2d(1024, 1024, 3, padding=1),   \n",
    "            nn.MaxPool2d(2, stride=2),  nn.ReLU(True)\n",
    "        )\n",
    "        self.scatter = nn.Sequential(\n",
    "            nn.Conv2d(81, 256, 3, padding=1),   \n",
    "            nn.BatchNorm2d(256), nn.ReLU(True),\n",
    "            nn.Conv2d(256, 256, 3, padding=1),   \n",
    "            nn.MaxPool2d(2, stride=2),   nn.ReLU(True),\n",
    "            nn.Conv2d(256, 512, 3, padding=1),\n",
    "            nn.BatchNorm2d(512),   nn.ReLU(True),\n",
    "            nn.Conv2d(512, 512, 3, padding=1),   \n",
    "            nn.MaxPool2d(2, stride=2),    nn.ReLU(True),\n",
    "            nn.Conv2d(512, 1024, 3, padding=1),\n",
    "            nn.BatchNorm2d(1024),   nn.ReLU(True),\n",
    "            nn.Conv2d(1024, 1024, 3, padding=1),   \n",
    "            nn.MaxPool2d(2, stride=2),  nn.ReLU(True)\n",
    "        )\n",
    "        self.conv_merge_1= nn.Sequential(\n",
    "            nn.Conv2d(2048, 1024, 3, padding=1),   nn.ReLU(True)\n",
    "        )\n",
    "        self.conv_merge_2= nn.Sequential(\n",
    "            nn.Conv2d(1024, 512, 3, padding=1),   nn.ReLU(True)\n",
    "        )\n",
    "        self.conv_merge_3= nn.Sequential(\n",
    "            nn.Conv2d(512, 256, 3, padding=1),   nn.ReLU(True)\n",
    "        )\n",
    "        self.conv_merge_4= nn.Sequential(\n",
    "            nn.Conv2d(256,128, 3, padding=1),   nn.ReLU(True)\n",
    "        )\n",
    "        self.conv_merge_5=nn.Sequential(\n",
    "            nn.Conv2d(128,64, 3, padding=1),   nn.ReLU(True),\n",
    "        )\n",
    "        self.decoder_1 = nn.Sequential(\n",
    "            nn.ConvTranspose2d(1024, 512, 2, stride=2), \n",
    "            nn.Conv2d(512, 512, 3, padding=1),   nn.ReLU(True),\n",
    "        )\n",
    "        self.decoder_2 = nn.Sequential(\n",
    "            nn.ConvTranspose2d(512, 256, 2, stride=2), \n",
    "            nn.Conv2d(256, 256, 3, padding=1),   nn.ReLU(True),\n",
    "        )\n",
    "        self.decoder_3 = nn.Sequential(\n",
    "            nn.ConvTranspose2d(256, 128, 2, stride=2), \n",
    "            nn.Conv2d(128, 128, 3, padding=1),   nn.ReLU(True),\n",
    "        )\n",
    "        self.decoder_4 = nn.Sequential(\n",
    "            nn.ConvTranspose2d(128, 64, 2, stride=2), \n",
    "            nn.Conv2d(64, 64, 3, padding=1),   nn.ReLU(True),\n",
    "        )\n",
    "        self.decoder_5 = nn.Sequential(\n",
    "            nn.ConvTranspose2d(64, 32, 2, stride=2), \n",
    "            nn.Conv2d(32, 1, 3, padding=1),   nn.Sigmoid(),\n",
    "        )\n",
    "\n",
    "    def forward(self, x, y):\n",
    "        x1 = self.encoder_1(x)\n",
    "        x2 = self.encoder_2(x1)\n",
    "        x3 = self.encoder_3(x2)\n",
    "        x4 = self.encoder_4(x3)\n",
    "        x5 = self.encoder_5(x4)\n",
    "        b = self.scatter(y)\n",
    "        c = torch.cat([x5,b],dim=1)\n",
    "        # print(\"Model\", x5.shape, b.shape, c.shape)\n",
    "        d = self.conv_merge_1(c)\n",
    "        y1 = self.decoder_1(d)\n",
    "        f = torch.cat([x4,y1],dim=1)\n",
    "        g = self.conv_merge_2(f)\n",
    "        y2 = self.decoder_2(g)\n",
    "        h = torch.cat([x3,y2],dim=1)\n",
    "        i = self.conv_merge_3(h)\n",
    "        y3 = self.decoder_3(i)\n",
    "        j = torch.cat([x2,y3],dim=1)\n",
    "        k = self.conv_merge_4(j)\n",
    "        y4 = self.decoder_4(k)\n",
    "        l = torch.cat([x1,y4],dim=1)\n",
    "        m = self.conv_merge_5(l)\n",
    "        n = self.decoder_5(m)\n",
    "        return n\n",
    "\n",
    "model = Dunet().to(device=device)\n",
    "# model.load_state_dict(torch.load('/content/drive/MyDrive/hc18/saved_model29'))\n",
    "# summary(model, [(1, 544, 800),(81,136,200)])"
   ]
  },
  {
   "cell_type": "code",
   "execution_count": null,
   "metadata": {
    "colab": {
     "base_uri": "https://localhost:8080/"
    },
    "id": "lhUsoVehWHm4",
    "outputId": "902da0dc-3af6-4f10-af63-ec090486afd9"
   },
   "outputs": [
    {
     "name": "stdout",
     "output_type": "stream",
     "text": [
      "Dunet(\n",
      "  (encoder_1): Sequential(\n",
      "    (0): Conv2d(1, 64, kernel_size=(3, 3), stride=(1, 1), padding=(1, 1))\n",
      "    (1): BatchNorm2d(64, eps=1e-05, momentum=0.1, affine=True, track_running_stats=True)\n",
      "    (2): ReLU(inplace=True)\n",
      "    (3): Conv2d(64, 64, kernel_size=(3, 3), stride=(1, 1), padding=(1, 1))\n",
      "    (4): MaxPool2d(kernel_size=2, stride=2, padding=0, dilation=1, ceil_mode=False)\n",
      "    (5): ReLU(inplace=True)\n",
      "  )\n",
      "  (encoder_2): Sequential(\n",
      "    (0): Conv2d(64, 128, kernel_size=(3, 3), stride=(1, 1), padding=(1, 1))\n",
      "    (1): BatchNorm2d(128, eps=1e-05, momentum=0.1, affine=True, track_running_stats=True)\n",
      "    (2): ReLU(inplace=True)\n",
      "    (3): Conv2d(128, 128, kernel_size=(3, 3), stride=(1, 1), padding=(1, 1))\n",
      "    (4): MaxPool2d(kernel_size=2, stride=2, padding=0, dilation=1, ceil_mode=False)\n",
      "    (5): ReLU(inplace=True)\n",
      "  )\n",
      "  (encoder_3): Sequential(\n",
      "    (0): Conv2d(128, 256, kernel_size=(3, 3), stride=(1, 1), padding=(1, 1))\n",
      "    (1): BatchNorm2d(256, eps=1e-05, momentum=0.1, affine=True, track_running_stats=True)\n",
      "    (2): ReLU(inplace=True)\n",
      "    (3): Conv2d(256, 256, kernel_size=(3, 3), stride=(1, 1), padding=(1, 1))\n",
      "    (4): MaxPool2d(kernel_size=2, stride=2, padding=0, dilation=1, ceil_mode=False)\n",
      "    (5): ReLU(inplace=True)\n",
      "  )\n",
      "  (encoder_4): Sequential(\n",
      "    (0): Conv2d(256, 512, kernel_size=(3, 3), stride=(1, 1), padding=(1, 1))\n",
      "    (1): BatchNorm2d(512, eps=1e-05, momentum=0.1, affine=True, track_running_stats=True)\n",
      "    (2): ReLU(inplace=True)\n",
      "    (3): Conv2d(512, 512, kernel_size=(3, 3), stride=(1, 1), padding=(1, 1))\n",
      "    (4): MaxPool2d(kernel_size=2, stride=2, padding=0, dilation=1, ceil_mode=False)\n",
      "    (5): ReLU(inplace=True)\n",
      "  )\n",
      "  (encoder_5): Sequential(\n",
      "    (0): Conv2d(512, 1024, kernel_size=(3, 3), stride=(1, 1), padding=(1, 1))\n",
      "    (1): BatchNorm2d(1024, eps=1e-05, momentum=0.1, affine=True, track_running_stats=True)\n",
      "    (2): ReLU(inplace=True)\n",
      "    (3): Conv2d(1024, 1024, kernel_size=(3, 3), stride=(1, 1), padding=(1, 1))\n",
      "    (4): MaxPool2d(kernel_size=2, stride=2, padding=0, dilation=1, ceil_mode=False)\n",
      "    (5): ReLU(inplace=True)\n",
      "  )\n",
      "  (scatter): Sequential(\n",
      "    (0): Conv2d(81, 256, kernel_size=(3, 3), stride=(1, 1), padding=(1, 1))\n",
      "    (1): BatchNorm2d(256, eps=1e-05, momentum=0.1, affine=True, track_running_stats=True)\n",
      "    (2): ReLU(inplace=True)\n",
      "    (3): Conv2d(256, 256, kernel_size=(3, 3), stride=(1, 1), padding=(1, 1))\n",
      "    (4): MaxPool2d(kernel_size=2, stride=2, padding=0, dilation=1, ceil_mode=False)\n",
      "    (5): ReLU(inplace=True)\n",
      "    (6): Conv2d(256, 512, kernel_size=(3, 3), stride=(1, 1), padding=(1, 1))\n",
      "    (7): BatchNorm2d(512, eps=1e-05, momentum=0.1, affine=True, track_running_stats=True)\n",
      "    (8): ReLU(inplace=True)\n",
      "    (9): Conv2d(512, 512, kernel_size=(3, 3), stride=(1, 1), padding=(1, 1))\n",
      "    (10): MaxPool2d(kernel_size=2, stride=2, padding=0, dilation=1, ceil_mode=False)\n",
      "    (11): ReLU(inplace=True)\n",
      "    (12): Conv2d(512, 1024, kernel_size=(3, 3), stride=(1, 1), padding=(1, 1))\n",
      "    (13): BatchNorm2d(1024, eps=1e-05, momentum=0.1, affine=True, track_running_stats=True)\n",
      "    (14): ReLU(inplace=True)\n",
      "    (15): Conv2d(1024, 1024, kernel_size=(3, 3), stride=(1, 1), padding=(1, 1))\n",
      "    (16): MaxPool2d(kernel_size=2, stride=2, padding=0, dilation=1, ceil_mode=False)\n",
      "    (17): ReLU(inplace=True)\n",
      "  )\n",
      "  (conv_merge_1): Sequential(\n",
      "    (0): Conv2d(2048, 1024, kernel_size=(3, 3), stride=(1, 1), padding=(1, 1))\n",
      "    (1): ReLU(inplace=True)\n",
      "  )\n",
      "  (conv_merge_2): Sequential(\n",
      "    (0): Conv2d(1024, 512, kernel_size=(3, 3), stride=(1, 1), padding=(1, 1))\n",
      "    (1): ReLU(inplace=True)\n",
      "  )\n",
      "  (conv_merge_3): Sequential(\n",
      "    (0): Conv2d(512, 256, kernel_size=(3, 3), stride=(1, 1), padding=(1, 1))\n",
      "    (1): ReLU(inplace=True)\n",
      "  )\n",
      "  (conv_merge_4): Sequential(\n",
      "    (0): Conv2d(256, 128, kernel_size=(3, 3), stride=(1, 1), padding=(1, 1))\n",
      "    (1): ReLU(inplace=True)\n",
      "  )\n",
      "  (conv_merge_5): Sequential(\n",
      "    (0): Conv2d(128, 64, kernel_size=(3, 3), stride=(1, 1), padding=(1, 1))\n",
      "    (1): ReLU(inplace=True)\n",
      "  )\n",
      "  (decoder_1): Sequential(\n",
      "    (0): ConvTranspose2d(1024, 512, kernel_size=(2, 2), stride=(2, 2))\n",
      "    (1): Conv2d(512, 512, kernel_size=(3, 3), stride=(1, 1), padding=(1, 1))\n",
      "    (2): ReLU(inplace=True)\n",
      "  )\n",
      "  (decoder_2): Sequential(\n",
      "    (0): ConvTranspose2d(512, 256, kernel_size=(2, 2), stride=(2, 2))\n",
      "    (1): Conv2d(256, 256, kernel_size=(3, 3), stride=(1, 1), padding=(1, 1))\n",
      "    (2): ReLU(inplace=True)\n",
      "  )\n",
      "  (decoder_3): Sequential(\n",
      "    (0): ConvTranspose2d(256, 128, kernel_size=(2, 2), stride=(2, 2))\n",
      "    (1): Conv2d(128, 128, kernel_size=(3, 3), stride=(1, 1), padding=(1, 1))\n",
      "    (2): ReLU(inplace=True)\n",
      "  )\n",
      "  (decoder_4): Sequential(\n",
      "    (0): ConvTranspose2d(128, 64, kernel_size=(2, 2), stride=(2, 2))\n",
      "    (1): Conv2d(64, 64, kernel_size=(3, 3), stride=(1, 1), padding=(1, 1))\n",
      "    (2): ReLU(inplace=True)\n",
      "  )\n",
      "  (decoder_5): Sequential(\n",
      "    (0): ConvTranspose2d(64, 32, kernel_size=(2, 2), stride=(2, 2))\n",
      "    (1): Conv2d(32, 1, kernel_size=(3, 3), stride=(1, 1), padding=(1, 1))\n",
      "    (2): Sigmoid()\n",
      "  )\n",
      ")\n"
     ]
    }
   ],
   "source": [
    "print(model)"
   ]
  },
  {
   "cell_type": "code",
   "execution_count": null,
   "metadata": {
    "id": "mWiDdo00wrRs"
   },
   "outputs": [],
   "source": [
    "criterion = diceloss()\n",
    "optimizer = torch.optim.Adam(model.parameters(), lr=LEARNING_RATE, weight_decay=LEARNING_RATE*0.1)\n",
    "# optimizer = torch.optim.RMSprop(model.parameters(), lr=LEARNING_RATE, weight_decay=1e-8, momentum=0.9)\n",
    "# scheduler = optim.lr_scheduler.ReduceLROnPlateau(optimizer, 'min' if net.n_classes > 1 else 'max', patience=2)"
   ]
  },
  {
   "cell_type": "code",
   "execution_count": null,
   "metadata": {
    "id": "G_gbUMp3G3GR"
   },
   "outputs": [],
   "source": [
    "def iou_binary(out, labels, EMPTY=1., ignore=None, per_image=True, threshold=0.5):\n",
    "    \"\"\"\n",
    "    IoU for foreground class\n",
    "    binary: 1 foreground, 0 background\n",
    "    \"\"\"\n",
    "    out = torch.sigmoid(out)\n",
    "    preds = (out.data > threshold).long()\n",
    "    if not per_image:\n",
    "        preds, labels = (preds,), (labels,)\n",
    "    ious = []\n",
    "    for pred, label in zip(preds, labels):\n",
    "        intersection = ((label == 1) & (pred == 1)).sum()\n",
    "        union = ((label == 1) | ((pred == 1) & (label != ignore))).sum()\n",
    "        if not union:\n",
    "            iou = EMPTY\n",
    "        else:\n",
    "            iou = float(intersection) / float(union)\n",
    "        ious.append(iou)\n",
    "    iou = np.mean(np.array(ious))    # mean accross images if per_image\n",
    "    return 100 * iou"
   ]
  },
  {
   "cell_type": "code",
   "execution_count": null,
   "metadata": {
    "id": "irhB0Hltc1G6"
   },
   "outputs": [],
   "source": [
    "# iou_score_train = []\n",
    "# dice_loss_train = []\n",
    "# iou_score_val= []\n",
    "# dice_loss_val = []\n",
    "\n",
    "# best_iou_score = -np.inf\n",
    "# for epoch in range(NUM_EPOCHS):  # loop over the dataset multiple times\n",
    "#     running_loss = 0.0\n",
    "#     ##training\n",
    "#     model.train()\n",
    "#     for i, data in enumerate(trainLoader, 0):\n",
    "\n",
    "#         iou = []\n",
    "#         loss_arr = []\n",
    "#         # get the inputs; data is a list of [inputs, labels]\n",
    "#         images = data['image']\n",
    "#         masks = data['mask']\n",
    "#         scatters = data['scatter']\n",
    "\n",
    "#         # zero the parameter gradients\n",
    "#         optimizer.zero_grad()\n",
    "\n",
    "#         # forward + backward + optimize\n",
    "#         outputs = model(images,scatters)\n",
    "#         loss = criterion(outputs, masks)\n",
    "#         print(\"Training: Mini - Batch \",i,\"Loss\", loss.item())\n",
    "#         with torch.no_grad():\n",
    "#             outputs = model(images, scatters)\n",
    "#             iou.append(iou_binary(outputs, masks, per_image=True, threshold=0.59))\n",
    "#             loss_arr.append(loss.item())\n",
    "\n",
    "#         loss.backward()\n",
    "#         optimizer.step()\n",
    "\n",
    "#         running_loss += loss.item()\n",
    "        \n",
    "#     iou_score_train.append(np.mean(iou))\n",
    "#     dice_loss_train.append(np.mean(loss_arr))\n",
    "\n",
    "#     ##evaluation\n",
    "#     model.eval()\n",
    "#     with torch.no_grad():\n",
    "#         iou = []\n",
    "#         loss_arr = []\n",
    "#         for k, data in enumerate(valLoader, 0):\n",
    "#             # get the inputs; data is a list of [inputs, labels]\n",
    "#             images = data['image'].to(device)\n",
    "#             masks = data['mask'].to(device)\n",
    "#             scatters = data['scatter']\n",
    "\n",
    "#             outputs = model(images, scatters)\n",
    "#             loss = criterion(outputs, masks)\n",
    "#             print(\"Validation: Mini - Batch \",k,\"Loss\", loss.item())\n",
    "\n",
    "#             outputs = model(images,scatters)\n",
    "#             iou.append(iou_binary(outputs, masks, per_image=True, threshold=0.59))\n",
    "#             loss_arr.append(loss.item())\n",
    "   \n",
    "#     iou_score_val.append(np.mean(iou))\n",
    "#     dice_loss_val.append(np.mean(loss_arr))\n",
    "\n",
    "#     with open('/content/drive/MyDrive/cv/anushree/HC-18/best-model_dunet/epoch_iousAndArrays.pkl', 'wb') as fid:\n",
    "#         pickle.dump({'iou_score_train':iou_score_train, 'dice_loss_train': dice_loss_train, 'iou_score_val':iou_score_val, 'dice_loss_val':dice_loss_val}, fid)\n",
    "\n",
    "#     if epoch % 1 == 0:\n",
    "#         print(\"Epoch [{}]: Train - iou: {}, loss: {}; Val - iou: {}, loss: {}\".format(epoch, iou_score_train[-1], dice_loss_train[-1], iou_score_val[-1], dice_loss_val[-1]))\n",
    "#         running_loss = 0.0\n",
    "    \n",
    "\n",
    "#     if iou_score_val[-1]>best_iou_score:\n",
    "#         best_iou_score = iou_score_val[-1]\n",
    "#         torch.save(model.state_dict(), \"/content/drive/MyDrive/cv/anushree/HC-18/best-model_dunet/best-model\")\n",
    "#         with open('/content/drive/MyDrive/cv/anushree/HC-18/best-model_dunet/best_iou.pkl', 'wb') as fid:\n",
    "#             pickle.dump(best_iou_score, fid)\n",
    "    \n",
    "\n",
    "# print('Finished Training')"
   ]
  },
  {
   "cell_type": "code",
   "execution_count": null,
   "metadata": {
    "id": "awi-4P7nd61p"
   },
   "outputs": [],
   "source": [
    "with open('/content/drive/MyDrive/cv/anushree/HC-18/best-model_dunet/epoch_iousAndArrays.pkl', 'rb') as fid:\n",
    "    data = pickle.load(fid)\n",
    "    iou_score_train = data['iou_score_train']\n",
    "    dice_loss_train = data['dice_loss_train']\n",
    "    iou_score_val = data['iou_score_val']\n",
    "    dice_loss_val = data['dice_loss_val']\n",
    "    print(dice_loss_val[np.argmax(iou_score_val)])\n",
    "    print(np.max(iou_score_val))"
   ]
  },
  {
   "cell_type": "code",
   "execution_count": null,
   "metadata": {
    "id": "XjzUVeVzvDFe"
   },
   "outputs": [],
   "source": [
    "epoch_train_losses = dice_loss_train\n",
    "epoch_train_iou = iou_score_train\n",
    "epoch_val_losses = dice_loss_val\n",
    "epoch_val_iou = iou_score_val\n",
    "print(epoch_train_losses)\n",
    "print(epoch_train_iou)\n",
    "print(epoch_val_losses)\n",
    "print(epoch_val_iou)\n",
    "\n",
    "def plot(scores, name):\n",
    "    plt.figure(figsize=(15,5))\n",
    "    plt.plot(range(len(scores)), scores, label=f'train {name}')\n",
    "    #plt.plot(range(len(scores[\"train\"])), scores[\"val\"], label=f'val {name}')\n",
    "    plt.title(f'{name} plot'); plt.xlabel('Epoch'); plt.ylabel(f'{name}');\n",
    "    plt.legend(); \n",
    "    plt.show()"
   ]
  },
  {
   "cell_type": "code",
   "execution_count": null,
   "metadata": {
    "id": "dpmtQR4bvDFj"
   },
   "outputs": [],
   "source": [
    "#25epochs-test_train split\n",
    "plot(epoch_train_losses, \"Training loss\")\n",
    "plot(epoch_train_iou, \"Training-iou score\")\n",
    "plot(epoch_val_losses, \"Val loss\")\n",
    "plot(epoch_val_iou, \"Val-iou score\")"
   ]
  },
  {
   "cell_type": "code",
   "execution_count": null,
   "metadata": {
    "colab": {
     "base_uri": "https://localhost:8080/"
    },
    "id": "YCaNMryivDFl",
    "outputId": "bbc921c8-7be7-4a5a-f357-e6dc443e09a9"
   },
   "outputs": [
    {
     "data": {
      "text/plain": [
       "<All keys matched successfully>"
      ]
     },
     "execution_count": 104,
     "metadata": {
      "tags": []
     },
     "output_type": "execute_result"
    }
   ],
   "source": [
    "model.load_state_dict(torch.load('/content/drive/MyDrive/cv/priya/HC-18/best-model_dunet_ori/best-model'))"
   ]
  },
  {
   "cell_type": "code",
   "execution_count": null,
   "metadata": {
    "colab": {
     "base_uri": "https://localhost:8080/",
     "height": 598
    },
    "id": "nqFAVlgtvDFm",
    "outputId": "392b8b42-5ad6-419e-a29a-69981f5c2d08"
   },
   "outputs": [
    {
     "data": {
      "image/png": "[encoded data removed]",
      "text/plain": [
       "<Figure size 720x720 with 3 Axes>"
      ]
     },
     "metadata": {
      "needs_background": "light",
      "tags": []
     },
     "output_type": "display_data"
    },
    {
     "data": {
      "image/png": "[encoded data removed]",
      "text/plain": [
       "<Figure size 720x720 with 3 Axes>"
      ]
     },
     "metadata": {
      "needs_background": "light",
      "tags": []
     },
     "output_type": "display_data"
    },
    {
     "data": {
      "image/png": "[encoded data removed]",
      "text/plain": [
       "<Figure size 720x720 with 3 Axes>"
      ]
     },
     "metadata": {
      "needs_background": "light",
      "tags": []
     },
     "output_type": "display_data"
    },
    {
     "data": {
      "image/png": "[encoded data removed]",
      "text/plain": [
       "<Figure size 720x720 with 3 Axes>"
      ]
     },
     "metadata": {
      "needs_background": "light",
      "tags": []
     },
     "output_type": "display_data"
    },
    {
     "name": "stdout",
     "output_type": "stream",
     "text": [
      "Finished Evaluation\n"
     ]
    }
   ],
   "source": [
    "# evaluate model:\n",
    "model.eval()\n",
    "iou = []\n",
    "with torch.no_grad():\n",
    "    for k, data in enumerate(valLoader, 0):\n",
    "        # get the inputs; data is a list of [inputs, labels]\n",
    "        images = data['image'].to(device)\n",
    "        masks = data['mask'].to(device)\n",
    "        scatters = data['scatter']\n",
    "\n",
    "        # forward + backward + optimize\n",
    "        # print(\"image:\",images.shape)\n",
    "        # print(\"masks:\",masks.shape)\n",
    "        outputs = model(images, scatters)\n",
    "        iou.append(iou_binary(outputs, masks, per_image=True, threshold=0.5))\n",
    "\n",
    "        for i in range(images.shape[0]):\n",
    "            f, ax = plt.subplots(1,3,figsize=(10,10))\n",
    "            \n",
    "            ax[0].axis('off')\n",
    "            ax[0].set_title('Original image')\n",
    "            ax[1].axis('off')\n",
    "            ax[1].set_title('Target mask')\n",
    "            ax[2].axis('off')\n",
    "            ax[2].set_title('Predicted mask')\n",
    "            image = transforms.ToPILImage()(images[i])\n",
    "            ax[0].imshow(image,cmap='gray')\n",
    "            mask = transforms.ToPILImage()(masks[i])\n",
    "\n",
    "            ax[1].imshow(mask,cmap='gray')\n",
    "            output = torch.sigmoid(outputs[i])\n",
    "            output = (output.data > 0.72).long()\n",
    "            # print(output)\n",
    "            # output = transforms.ToPILImage()(output)\n",
    "            output = torch.squeeze(output, 0)\n",
    "\n",
    "            ax[2].imshow(output.cpu(),cmap='gray')\n",
    "            plt.show()\n",
    "        break\n",
    "\n",
    "print('Finished Evaluation')\n",
    "# print('iou:',np.mean(iou))"
   ]
  }
 ],
 "metadata": {
  "accelerator": "GPU",
  "colab": {
   "collapsed_sections": [],
   "name": "DUNET_Pytorch.ipynb",
   "provenance": []
  },
  "kernelspec": {
   "display_name": "Python 3",
   "language": "python",
   "name": "python3"
  },
  "language_info": {
   "codemirror_mode": {
    "name": "ipython",
    "version": 3
   },
   "file_extension": ".py",
   "mimetype": "text/x-python",
   "name": "python",
   "nbconvert_exporter": "python",
   "pygments_lexer": "ipython3",
   "version": "3.8.3"
  },
  "widgets": {
   "application/vnd.jupyter.widget-state+json": {
    "3d5b64d82a5f43a491cb7b966655ed34": {
     "model_module": "@jupyter-widgets/controls",
     "model_name": "HTMLModel",
     "state": {
      "_dom_classes": [],
      "_model_module": "@jupyter-widgets/controls",
      "_model_module_version": "1.5.0",
      "_model_name": "HTMLModel",
      "_view_count": null,
      "_view_module": "@jupyter-widgets/controls",
      "_view_module_version": "1.5.0",
      "_view_name": "HTMLView",
      "description": "",
      "description_tooltip": null,
      "layout": "IPY_MODEL_dc89b0e1231e4a2483a407a37680c57a",
      "placeholder": "​",
      "style": "IPY_MODEL_e0cd59b8409a43cb9b3996157f709d1f",
      "value": " 77.4M/77.4M [03:48&lt;00:00, 356kB/s]"
     }
    },
    "5bad45dc698244e18ffe8fcf164750c8": {
     "model_module": "@jupyter-widgets/controls",
     "model_name": "HBoxModel",
     "state": {
      "_dom_classes": [],
      "_model_module": "@jupyter-widgets/controls",
      "_model_module_version": "1.5.0",
      "_model_name": "HBoxModel",
      "_view_count": null,
      "_view_module": "@jupyter-widgets/controls",
      "_view_module_version": "1.5.0",
      "_view_name": "HBoxView",
      "box_style": "",
      "children": [
       "IPY_MODEL_7e34e95bc0fd4555bb532c378f88e6d1",
       "IPY_MODEL_3d5b64d82a5f43a491cb7b966655ed34"
      ],
      "layout": "IPY_MODEL_7c103bd9485a4f1aa38049f9c8c1ae5a"
     }
    },
    "7c103bd9485a4f1aa38049f9c8c1ae5a": {
     "model_module": "@jupyter-widgets/base",
     "model_name": "LayoutModel",
     "state": {
      "_model_module": "@jupyter-widgets/base",
      "_model_module_version": "1.2.0",
      "_model_name": "LayoutModel",
      "_view_count": null,
      "_view_module": "@jupyter-widgets/base",
      "_view_module_version": "1.2.0",
      "_view_name": "LayoutView",
      "align_content": null,
      "align_items": null,
      "align_self": null,
      "border": null,
      "bottom": null,
      "display": null,
      "flex": null,
      "flex_flow": null,
      "grid_area": null,
      "grid_auto_columns": null,
      "grid_auto_flow": null,
      "grid_auto_rows": null,
      "grid_column": null,
      "grid_gap": null,
      "grid_row": null,
      "grid_template_areas": null,
      "grid_template_columns": null,
      "grid_template_rows": null,
      "height": null,
      "justify_content": null,
      "justify_items": null,
      "left": null,
      "margin": null,
      "max_height": null,
      "max_width": null,
      "min_height": null,
      "min_width": null,
      "object_fit": null,
      "object_position": null,
      "order": null,
      "overflow": null,
      "overflow_x": null,
      "overflow_y": null,
      "padding": null,
      "right": null,
      "top": null,
      "visibility": null,
      "width": null
     }
    },
    "7e34e95bc0fd4555bb532c378f88e6d1": {
     "model_module": "@jupyter-widgets/controls",
     "model_name": "FloatProgressModel",
     "state": {
      "_dom_classes": [],
      "_model_module": "@jupyter-widgets/controls",
      "_model_module_version": "1.5.0",
      "_model_name": "FloatProgressModel",
      "_view_count": null,
      "_view_module": "@jupyter-widgets/controls",
      "_view_module_version": "1.5.0",
      "_view_name": "ProgressView",
      "bar_style": "success",
      "description": "100%",
      "description_tooltip": null,
      "layout": "IPY_MODEL_a0fe5f6627214da69e1aa5916615685a",
      "max": 81139790,
      "min": 0,
      "orientation": "horizontal",
      "style": "IPY_MODEL_a214ea87c29a47e2b7843f7e28b976fc",
      "value": 81139790
     }
    },
    "a0fe5f6627214da69e1aa5916615685a": {
     "model_module": "@jupyter-widgets/base",
     "model_name": "LayoutModel",
     "state": {
      "_model_module": "@jupyter-widgets/base",
      "_model_module_version": "1.2.0",
      "_model_name": "LayoutModel",
      "_view_count": null,
      "_view_module": "@jupyter-widgets/base",
      "_view_module_version": "1.2.0",
      "_view_name": "LayoutView",
      "align_content": null,
      "align_items": null,
      "align_self": null,
      "border": null,
      "bottom": null,
      "display": null,
      "flex": null,
      "flex_flow": null,
      "grid_area": null,
      "grid_auto_columns": null,
      "grid_auto_flow": null,
      "grid_auto_rows": null,
      "grid_column": null,
      "grid_gap": null,
      "grid_row": null,
      "grid_template_areas": null,
      "grid_template_columns": null,
      "grid_template_rows": null,
      "height": null,
      "justify_content": null,
      "justify_items": null,
      "left": null,
      "margin": null,
      "max_height": null,
      "max_width": null,
      "min_height": null,
      "min_width": null,
      "object_fit": null,
      "object_position": null,
      "order": null,
      "overflow": null,
      "overflow_x": null,
      "overflow_y": null,
      "padding": null,
      "right": null,
      "top": null,
      "visibility": null,
      "width": null
     }
    },
    "a214ea87c29a47e2b7843f7e28b976fc": {
     "model_module": "@jupyter-widgets/controls",
     "model_name": "ProgressStyleModel",
     "state": {
      "_model_module": "@jupyter-widgets/controls",
      "_model_module_version": "1.5.0",
      "_model_name": "ProgressStyleModel",
      "_view_count": null,
      "_view_module": "@jupyter-widgets/base",
      "_view_module_version": "1.2.0",
      "_view_name": "StyleView",
      "bar_color": null,
      "description_width": "initial"
     }
    },
    "dc89b0e1231e4a2483a407a37680c57a": {
     "model_module": "@jupyter-widgets/base",
     "model_name": "LayoutModel",
     "state": {
      "_model_module": "@jupyter-widgets/base",
      "_model_module_version": "1.2.0",
      "_model_name": "LayoutModel",
      "_view_count": null,
      "_view_module": "@jupyter-widgets/base",
      "_view_module_version": "1.2.0",
      "_view_name": "LayoutView",
      "align_content": null,
      "align_items": null,
      "align_self": null,
      "border": null,
      "bottom": null,
      "display": null,
      "flex": null,
      "flex_flow": null,
      "grid_area": null,
      "grid_auto_columns": null,
      "grid_auto_flow": null,
      "grid_auto_rows": null,
      "grid_column": null,
      "grid_gap": null,
      "grid_row": null,
      "grid_template_areas": null,
      "grid_template_columns": null,
      "grid_template_rows": null,
      "height": null,
      "justify_content": null,
      "justify_items": null,
      "left": null,
      "margin": null,
      "max_height": null,
      "max_width": null,
      "min_height": null,
      "min_width": null,
      "object_fit": null,
      "object_position": null,
      "order": null,
      "overflow": null,
      "overflow_x": null,
      "overflow_y": null,
      "padding": null,
      "right": null,
      "top": null,
      "visibility": null,
      "width": null
     }
    },
    "e0cd59b8409a43cb9b3996157f709d1f": {
     "model_module": "@jupyter-widgets/controls",
     "model_name": "DescriptionStyleModel",
     "state": {
      "_model_module": "@jupyter-widgets/controls",
      "_model_module_version": "1.5.0",
      "_model_name": "DescriptionStyleModel",
      "_view_count": null,
      "_view_module": "@jupyter-widgets/base",
      "_view_module_version": "1.2.0",
      "_view_name": "StyleView",
      "description_width": ""
     }
    }
   }
  }
 },
 "nbformat": 4,
 "nbformat_minor": 1
}
