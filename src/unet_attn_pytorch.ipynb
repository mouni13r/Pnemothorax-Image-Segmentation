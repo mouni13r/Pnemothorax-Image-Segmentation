{
  "nbformat": 4,
  "nbformat_minor": 0,
  "metadata": {
    "accelerator": "GPU",
    "colab": {
      "name": "anushree_pytorch.ipynb",
      "provenance": [],
      "collapsed_sections": []
    },
    "kernelspec": {
      "display_name": "Python 3",
      "name": "python3"
    },
    "language_info": {
      "name": "python"
    }
  },
  "cells": [
    {
      "cell_type": "code",
      "metadata": {
        "id": "eJD3i4K-M44G",
        "colab": {
          "base_uri": "https://localhost:8080/"
        },
        "outputId": "2d449205-1fef-4077-92d5-82da05e5aed4"
      },
      "source": [
        "!pip3 install kymatio\n",
        "!pip3 install scikit-cuda\n",
        "!pip uninstall --y torchvision\n",
        "!pip install torch==1.7.0 torchvision==0.8.0\n",
        "import numpy as np \n",
        "import os,csv\n",
        "import numpy as np\n",
        "import torch.nn as nn\n",
        "import torch.nn.functional as F\n",
        "import torch\n",
        "from torch.utils.data import Dataset, DataLoader\n",
        "import matplotlib.pyplot as plt\n",
        "from torchsummary import summary\n",
        "import random\n",
        "from torchvision import transforms\n",
        "import torch.optim\n",
        "from PIL import Image\n",
        "from kymatio.torch import Scattering2D\n",
        "import pickle\n",
        "from sklearn.model_selection import train_test_split"
      ],
      "execution_count": null,
      "outputs": [
        {
          "output_type": "stream",
          "text": [
            "Collecting kymatio\n",
            "\u001b[?25l  Downloading https://files.pythonhosted.org/packages/10/ae/88e1a04fe72c71c703cd9230691e4bcc6ea1300f187cfc729ddec8b31bcf/kymatio-0.2.0-py3-none-any.whl (92kB)\n",
            "\r\u001b[K     |███▌                            | 10kB 17.5MB/s eta 0:00:01\r\u001b[K     |███████                         | 20kB 21.6MB/s eta 0:00:01\r\u001b[K     |██████████▋                     | 30kB 15.4MB/s eta 0:00:01\r\u001b[K     |██████████████▏                 | 40kB 6.6MB/s eta 0:00:01\r\u001b[K     |█████████████████▋              | 51kB 7.9MB/s eta 0:00:01\r\u001b[K     |█████████████████████▏          | 61kB 7.7MB/s eta 0:00:01\r\u001b[K     |████████████████████████▊       | 71kB 8.7MB/s eta 0:00:01\r\u001b[K     |████████████████████████████▎   | 81kB 9.1MB/s eta 0:00:01\r\u001b[K     |███████████████████████████████▉| 92kB 8.8MB/s eta 0:00:01\r\u001b[K     |████████████████████████████████| 102kB 5.8MB/s \n",
            "\u001b[?25hRequirement already satisfied: numpy in /usr/local/lib/python3.7/dist-packages (from kymatio) (1.19.5)\n",
            "Collecting configparser\n",
            "  Downloading https://files.pythonhosted.org/packages/fd/01/ff260a18caaf4457eb028c96eeb405c4a230ca06c8ec9c1379f813caa52e/configparser-5.0.2-py3-none-any.whl\n",
            "Requirement already satisfied: appdirs in /usr/local/lib/python3.7/dist-packages (from kymatio) (1.4.4)\n",
            "Requirement already satisfied: scipy in /usr/local/lib/python3.7/dist-packages (from kymatio) (1.4.1)\n",
            "Requirement already satisfied: packaging in /usr/local/lib/python3.7/dist-packages (from kymatio) (20.9)\n",
            "Requirement already satisfied: pyparsing>=2.0.2 in /usr/local/lib/python3.7/dist-packages (from packaging->kymatio) (2.4.7)\n",
            "Installing collected packages: configparser, kymatio\n",
            "Successfully installed configparser-5.0.2 kymatio-0.2.0\n",
            "Collecting scikit-cuda\n",
            "\u001b[?25l  Downloading https://files.pythonhosted.org/packages/98/8b/36d178c3b98524fe5b1cc15d075d34e2e6e291c4b0461f6e901f1e0bc736/scikit_cuda-0.5.3-py2.py3-none-any.whl (114kB)\n",
            "\u001b[K     |████████████████████████████████| 122kB 7.5MB/s \n",
            "\u001b[?25hCollecting mako>=1.0.1\n",
            "\u001b[?25l  Downloading https://files.pythonhosted.org/packages/f3/54/dbc07fbb20865d3b78fdb7cf7fa713e2cba4f87f71100074ef2dc9f9d1f7/Mako-1.1.4-py2.py3-none-any.whl (75kB)\n",
            "\u001b[K     |████████████████████████████████| 81kB 5.7MB/s \n",
            "\u001b[?25hCollecting pycuda>=2016.1\n",
            "\u001b[?25l  Downloading https://files.pythonhosted.org/packages/5a/56/4682a5118a234d15aa1c8768a528aac4858c7b04d2674e18d586d3dfda04/pycuda-2021.1.tar.gz (1.7MB)\n",
            "\u001b[K     |████████████████████████████████| 1.7MB 12.8MB/s \n",
            "\u001b[?25h  Installing build dependencies ... \u001b[?25l\u001b[?25hdone\n",
            "  Getting requirements to build wheel ... \u001b[?25l\u001b[?25hdone\n",
            "    Preparing wheel metadata ... \u001b[?25l\u001b[?25hdone\n",
            "Requirement already satisfied: numpy>=1.2.0 in /usr/local/lib/python3.7/dist-packages (from scikit-cuda) (1.19.5)\n",
            "Requirement already satisfied: MarkupSafe>=0.9.2 in /usr/local/lib/python3.7/dist-packages (from mako>=1.0.1->scikit-cuda) (1.1.1)\n",
            "Requirement already satisfied: appdirs>=1.4.0 in /usr/local/lib/python3.7/dist-packages (from pycuda>=2016.1->scikit-cuda) (1.4.4)\n",
            "Collecting pytools>=2011.2\n",
            "\u001b[?25l  Downloading https://files.pythonhosted.org/packages/27/de/39479223352189770e49006ae61188efc30721c6cda8a6e6b72e587353df/pytools-2021.2.5.tar.gz (63kB)\n",
            "\u001b[K     |████████████████████████████████| 71kB 10.2MB/s \n",
            "\u001b[?25hBuilding wheels for collected packages: pycuda\n",
            "  Building wheel for pycuda (PEP 517) ... \u001b[?25l\u001b[?25hdone\n",
            "  Created wheel for pycuda: filename=pycuda-2021.1-cp37-cp37m-linux_x86_64.whl size=627913 sha256=f6f6e03230088da76d595e1e6f989280a81c48d770b12220cd952252b07628e4\n",
            "  Stored in directory: /root/.cache/pip/wheels/d5/55/64/fd4dddcc5f1c25eebd90b5291c3769101dc978c70165685512\n",
            "Successfully built pycuda\n",
            "Building wheels for collected packages: pytools\n",
            "  Building wheel for pytools (setup.py) ... \u001b[?25l\u001b[?25hdone\n",
            "  Created wheel for pytools: filename=pytools-2021.2.5-py2.py3-none-any.whl size=60506 sha256=c0e16df43542fc0a09956d084aa8c7fc9886dc918fc93dbdc8d65460d328e7f0\n",
            "  Stored in directory: /root/.cache/pip/wheels/3f/43/1f/c32f938dff9dfb812279379eb51eeb49535ef1fdfe6a91ea5c\n",
            "Successfully built pytools\n",
            "Installing collected packages: mako, pytools, pycuda, scikit-cuda\n",
            "Successfully installed mako-1.1.4 pycuda-2021.1 pytools-2021.2.5 scikit-cuda-0.5.3\n",
            "Uninstalling torchvision-0.9.1+cu101:\n",
            "  Successfully uninstalled torchvision-0.9.1+cu101\n",
            "Collecting torch==1.7.0\n",
            "\u001b[?25l  Downloading https://files.pythonhosted.org/packages/d9/74/d52c014fbfb50aefc084d2bf5ffaa0a8456f69c586782b59f93ef45e2da9/torch-1.7.0-cp37-cp37m-manylinux1_x86_64.whl (776.7MB)\n",
            "\u001b[K     |████████████████████████████████| 776.8MB 23kB/s \n",
            "\u001b[?25hCollecting torchvision==0.8.0\n",
            "\u001b[?25l  Downloading https://files.pythonhosted.org/packages/1d/3f/4f45249458a0dee85bff7acf4a2ac6177708253f1f318fcf6ee230fb864f/torchvision-0.8.0-cp37-cp37m-manylinux1_x86_64.whl (11.8MB)\n",
            "\u001b[K     |████████████████████████████████| 11.8MB 263kB/s \n",
            "\u001b[?25hRequirement already satisfied: typing-extensions in /usr/local/lib/python3.7/dist-packages (from torch==1.7.0) (3.7.4.3)\n",
            "Collecting dataclasses\n",
            "  Downloading https://files.pythonhosted.org/packages/26/2f/1095cdc2868052dd1e64520f7c0d5c8c550ad297e944e641dbf1ffbb9a5d/dataclasses-0.6-py3-none-any.whl\n",
            "Requirement already satisfied: numpy in /usr/local/lib/python3.7/dist-packages (from torch==1.7.0) (1.19.5)\n",
            "Requirement already satisfied: future in /usr/local/lib/python3.7/dist-packages (from torch==1.7.0) (0.16.0)\n",
            "Requirement already satisfied: pillow>=4.1.1 in /usr/local/lib/python3.7/dist-packages (from torchvision==0.8.0) (7.1.2)\n",
            "\u001b[31mERROR: torchtext 0.9.1 has requirement torch==1.8.1, but you'll have torch 1.7.0 which is incompatible.\u001b[0m\n",
            "Installing collected packages: dataclasses, torch, torchvision\n",
            "  Found existing installation: torch 1.8.1+cu101\n",
            "    Uninstalling torch-1.8.1+cu101:\n",
            "      Successfully uninstalled torch-1.8.1+cu101\n",
            "Successfully installed dataclasses-0.6 torch-1.7.0 torchvision-0.8.0\n"
          ],
          "name": "stdout"
        }
      ]
    },
    {
      "cell_type": "code",
      "metadata": {
        "id": "QInbshkq9pQj"
      },
      "source": [
        "# !unzip -q /content/drive/MyDrive/cv/DUNET-HC-18_Data/DUNET.zip -d /content/drive/MyDrive/cv/DUNET-HC-18_Data/"
      ],
      "execution_count": null,
      "outputs": []
    },
    {
      "cell_type": "code",
      "metadata": {
        "colab": {
          "base_uri": "https://localhost:8080/"
        },
        "id": "jHz0llCf6GHH",
        "outputId": "1cd93ad2-6739-43d6-fd71-0bed6d1fe08f"
      },
      "source": [
        "import csv\n",
        "from google.colab import drive\n",
        "drive.mount('/content/drive', force_remount=True)\n",
        "# 4/1AY0e-g4UbHq_CkCkQLG7ug0yUnXepWmT7pS_gsiVPgrnh2-PU7RKqA7JzTk|"
      ],
      "execution_count": null,
      "outputs": [
        {
          "output_type": "stream",
          "text": [
            "Mounted at /content/drive\n"
          ],
          "name": "stdout"
        }
      ]
    },
    {
      "cell_type": "code",
      "metadata": {
        "id": "sNVore1xWPVO"
      },
      "source": [
        "import numpy as np \n",
        "import os,csv\n",
        "import numpy as np\n",
        "import torch.nn as nn\n",
        "import torch.nn.functional as F\n",
        "import torch\n",
        "from torch.utils.data import Dataset, DataLoader\n",
        "import matplotlib.pyplot as plt\n",
        "from torchsummary import summary\n",
        "import random\n",
        "from torchvision import transforms\n",
        "import torch.optim\n",
        "from PIL import Image\n",
        "from kymatio.torch import Scattering2D\n",
        "import pickle\n",
        "from sklearn.model_selection import train_test_split"
      ],
      "execution_count": null,
      "outputs": []
    },
    {
      "cell_type": "code",
      "metadata": {
        "id": "HmN017v1NII2",
        "colab": {
          "base_uri": "https://localhost:8080/"
        },
        "outputId": "9ca2feaf-7965-4a54-bfbd-f4ffa018ef61"
      },
      "source": [
        "device = torch.device(\"cuda:0\" if torch.cuda.is_available() else \"cpu\")\n",
        "print(device)"
      ],
      "execution_count": null,
      "outputs": [
        {
          "output_type": "stream",
          "text": [
            "cuda:0\n"
          ],
          "name": "stdout"
        }
      ]
    },
    {
      "cell_type": "markdown",
      "metadata": {
        "id": "g4njT3CuqWKI"
      },
      "source": [
        "#UNET with attention"
      ]
    },
    {
      "cell_type": "code",
      "metadata": {
        "id": "kDCf7GP3qWKK"
      },
      "source": [
        "NUM_EPOCHS = 25\n",
        "BATCH_SIZE = 4\n",
        "LEARNING_RATE = 1e-3"
      ],
      "execution_count": null,
      "outputs": []
    },
    {
      "cell_type": "code",
      "metadata": {
        "id": "RFo7SJW9qWKL"
      },
      "source": [
        "def getImageName(filename):\n",
        "    imageName = filename[:-4] + '_Annotation.png'\n",
        "    return imageName"
      ],
      "execution_count": null,
      "outputs": []
    },
    {
      "cell_type": "code",
      "metadata": {
        "id": "Mr29aVozqWKN"
      },
      "source": [
        "class HeadDataset(Dataset):\n",
        "    def __init__(self, image_path, mask_path, files, transform=None):\n",
        "        self.image_path = image_path\n",
        "        self.mask_path = mask_path\n",
        "        self.files = files\n",
        "        self.transform = transform\n",
        "        \n",
        "    def __len__(self):\n",
        "        return len(self.files)\n",
        "        \n",
        "    def __getitem__(self, idx):\n",
        "        \n",
        "        if torch.is_tensor(idx):\n",
        "            idx = idx.tolist()\n",
        "            \n",
        "        \n",
        "        img_name = os.path.join(self.image_path,self.files[idx])\n",
        "        mask_name = os.path.join(self.mask_path,getImageName(self.files[idx]))\n",
        "        \n",
        "        image = Image.open(img_name).convert('L')\n",
        "        mask = Image.open(mask_name).convert('L')\n",
        "        if self.transform:\n",
        "            image = self.transform(image)\n",
        "            mask = self.transform(mask)\n",
        "        image = image.to(device=device)\n",
        "        mask = mask.to(device=device)\n",
        "        \n",
        "        sample = {'image': image, 'mask': mask}\n",
        "        return sample"
      ],
      "execution_count": null,
      "outputs": []
    },
    {
      "cell_type": "code",
      "metadata": {
        "id": "jJMHKXWkqWKP"
      },
      "source": [
        "# base_folder = '/content/drive/MyDrive/hc18/training_set'\n",
        "base_folder = '/content/drive/MyDrive/cv/DUNET-HC-18_Data/DUNET/hc18/training_set/training_set'\n",
        "image_folder = base_folder\n",
        "mask_folder = base_folder"
      ],
      "execution_count": null,
      "outputs": []
    },
    {
      "cell_type": "code",
      "metadata": {
        "id": "ihW-O7aVqWKP"
      },
      "source": [
        "# traindir='/content/drive/MyDrive/cv/DUNET-HC-18_Data/DUNET/hc18/training_set/training_set'\n",
        "# i=0\n",
        "# trainname=[]\n",
        "# # start=0\n",
        "# # with open(\"/content/drive/MyDrive/hc18/training_set_pixel_size_and_HC.csv\",'r') as s:\n",
        "# with open(\"/content/drive/MyDrive/cv/DUNET-HC-18_Data/training_set_pixel_size_and_HC.csv\",'r') as s:\n",
        "#     r=csv.reader(s)\n",
        "#     for com in r:\n",
        "#         # if (start>20):\n",
        "#         #   break\n",
        "#         # start+=1\n",
        "#         if i==0:\n",
        "#             i+=1\n",
        "#         else:\n",
        "#             i+=1\n",
        "#             trainname.append(com[0])\n",
        "# files=trainname"
      ],
      "execution_count": null,
      "outputs": []
    },
    {
      "cell_type": "code",
      "metadata": {
        "id": "HfxouiVQqWKR"
      },
      "source": [
        "transform = transforms.Compose([\n",
        "    transforms.Resize((544, 800)),\n",
        "    transforms.ToTensor()\n",
        "])"
      ],
      "execution_count": null,
      "outputs": []
    },
    {
      "cell_type": "code",
      "metadata": {
        "id": "vfIeftofqWKT"
      },
      "source": [
        "# train, val = train_test_split(files, test_size = 0.2)\n",
        "# with open('/content/drive/MyDrive/cv/anushree/HC-18/train.pkl', 'wb') as fid:\n",
        "#     pickle.dump(train, fid)\n",
        "# with open('/content/drive/MyDrive/cv/anushree/HC-18/val.pkl', 'wb') as fid:\n",
        "#     pickle.dump(val, fid)\n",
        "\n",
        "with open('/content/drive/MyDrive/cv/anushree/HC-18/train.pkl', 'rb') as fid:\n",
        "    train = pickle.load(fid)\n",
        "with open('/content/drive/MyDrive/cv/anushree/HC-18/val.pkl', 'rb') as fid:\n",
        "    val = pickle.load(fid)\n",
        "    \n",
        "Head_Train_Dataset = HeadDataset(image_folder,mask_folder,train,transform)\n",
        "trainLoader = DataLoader(Head_Train_Dataset, batch_size=BATCH_SIZE,shuffle=True)\n",
        "\n",
        "Val_Dataset = HeadDataset(image_folder,mask_folder,val,transform)\n",
        "valLoader = DataLoader(Val_Dataset, batch_size=BATCH_SIZE,shuffle=True)\n",
        "# DME_Val_Dataset = DMEDataset(val_frame_path,val_masks_path)\n",
        "# DME_Test_Dataset = DMEDataset(test_frame_path,test_masks_path)\n",
        "# valDataSet = DataLoader(DME_Val_Dataset, batch_size=1,shuffle=True)\n",
        "# testDataSet = DataLoader(DME_Test_Dataset, batch_size=1,shuffle=True)"
      ],
      "execution_count": null,
      "outputs": []
    },
    {
      "cell_type": "code",
      "metadata": {
        "id": "deQgTq8xqWKU"
      },
      "source": [
        "class diceloss(torch.nn.Module):\n",
        "    def init(self):\n",
        "        super(diceLoss, self).init()\n",
        "    def forward(self, target, pred):\n",
        "       smooth = 1.\n",
        "       iflat = pred.contiguous().view(-1)\n",
        "       tflat = target.contiguous().view(-1)\n",
        "       intersection = (iflat * tflat).sum()\n",
        "       A_sum = torch.sum(iflat * iflat)\n",
        "       B_sum = torch.sum(tflat * tflat)\n",
        "       return 1 - ((2. * intersection + smooth) / (A_sum + B_sum + smooth))"
      ],
      "execution_count": null,
      "outputs": []
    },
    {
      "cell_type": "code",
      "metadata": {
        "id": "17E6j5hBqWKU"
      },
      "source": [
        "!pip install git+https://github.com/qubvel/segmentation_models.pytorch > /dev/null 2>&1 # Install segmentations_models.pytorch, with no bash output."
      ],
      "execution_count": null,
      "outputs": []
    },
    {
      "cell_type": "code",
      "metadata": {
        "id": "ewdOe9ZQqWKU"
      },
      "source": [
        "import segmentation_models_pytorch as smp\n",
        "model = smp.Unet(\"resnet34\", encoder_weights=\"imagenet\", in_channels=1, classes=1).to(device)\n",
        "\n",
        "criterion = diceloss()\n",
        "optimizer = torch.optim.Adam(model.parameters(), lr=LEARNING_RATE, weight_decay=LEARNING_RATE*0.1)\n",
        "# optimizer = torch.optim.RMSprop(model.parameters(), lr=LEARNING_RATE, weight_decay=1e-8, momentum=0.9)\n",
        "# scheduler = optim.lr_scheduler.ReduceLROnPlateau(optimizer, 'min' if net.n_classes > 1 else 'max', patience=2)"
      ],
      "execution_count": null,
      "outputs": []
    },
    {
      "cell_type": "code",
      "metadata": {
        "colab": {
          "base_uri": "https://localhost:8080/"
        },
        "id": "q0XrmtA6YLrt",
        "outputId": "49ab81dc-adfe-47db-90d4-4ede25443bd4"
      },
      "source": [
        "model"
      ],
      "execution_count": null,
      "outputs": [
        {
          "output_type": "execute_result",
          "data": {
            "text/plain": [
              "Unet(\n",
              "  (encoder): ResNetEncoder(\n",
              "    (conv1): Conv2d(1, 64, kernel_size=(7, 7), stride=(2, 2), padding=(3, 3), bias=False)\n",
              "    (bn1): BatchNorm2d(64, eps=1e-05, momentum=0.1, affine=True, track_running_stats=True)\n",
              "    (relu): ReLU(inplace=True)\n",
              "    (maxpool): MaxPool2d(kernel_size=3, stride=2, padding=1, dilation=1, ceil_mode=False)\n",
              "    (layer1): Sequential(\n",
              "      (0): BasicBlock(\n",
              "        (conv1): Conv2d(64, 64, kernel_size=(3, 3), stride=(1, 1), padding=(1, 1), bias=False)\n",
              "        (bn1): BatchNorm2d(64, eps=1e-05, momentum=0.1, affine=True, track_running_stats=True)\n",
              "        (relu): ReLU(inplace=True)\n",
              "        (conv2): Conv2d(64, 64, kernel_size=(3, 3), stride=(1, 1), padding=(1, 1), bias=False)\n",
              "        (bn2): BatchNorm2d(64, eps=1e-05, momentum=0.1, affine=True, track_running_stats=True)\n",
              "      )\n",
              "      (1): BasicBlock(\n",
              "        (conv1): Conv2d(64, 64, kernel_size=(3, 3), stride=(1, 1), padding=(1, 1), bias=False)\n",
              "        (bn1): BatchNorm2d(64, eps=1e-05, momentum=0.1, affine=True, track_running_stats=True)\n",
              "        (relu): ReLU(inplace=True)\n",
              "        (conv2): Conv2d(64, 64, kernel_size=(3, 3), stride=(1, 1), padding=(1, 1), bias=False)\n",
              "        (bn2): BatchNorm2d(64, eps=1e-05, momentum=0.1, affine=True, track_running_stats=True)\n",
              "      )\n",
              "      (2): BasicBlock(\n",
              "        (conv1): Conv2d(64, 64, kernel_size=(3, 3), stride=(1, 1), padding=(1, 1), bias=False)\n",
              "        (bn1): BatchNorm2d(64, eps=1e-05, momentum=0.1, affine=True, track_running_stats=True)\n",
              "        (relu): ReLU(inplace=True)\n",
              "        (conv2): Conv2d(64, 64, kernel_size=(3, 3), stride=(1, 1), padding=(1, 1), bias=False)\n",
              "        (bn2): BatchNorm2d(64, eps=1e-05, momentum=0.1, affine=True, track_running_stats=True)\n",
              "      )\n",
              "    )\n",
              "    (layer2): Sequential(\n",
              "      (0): BasicBlock(\n",
              "        (conv1): Conv2d(64, 128, kernel_size=(3, 3), stride=(2, 2), padding=(1, 1), bias=False)\n",
              "        (bn1): BatchNorm2d(128, eps=1e-05, momentum=0.1, affine=True, track_running_stats=True)\n",
              "        (relu): ReLU(inplace=True)\n",
              "        (conv2): Conv2d(128, 128, kernel_size=(3, 3), stride=(1, 1), padding=(1, 1), bias=False)\n",
              "        (bn2): BatchNorm2d(128, eps=1e-05, momentum=0.1, affine=True, track_running_stats=True)\n",
              "        (downsample): Sequential(\n",
              "          (0): Conv2d(64, 128, kernel_size=(1, 1), stride=(2, 2), bias=False)\n",
              "          (1): BatchNorm2d(128, eps=1e-05, momentum=0.1, affine=True, track_running_stats=True)\n",
              "        )\n",
              "      )\n",
              "      (1): BasicBlock(\n",
              "        (conv1): Conv2d(128, 128, kernel_size=(3, 3), stride=(1, 1), padding=(1, 1), bias=False)\n",
              "        (bn1): BatchNorm2d(128, eps=1e-05, momentum=0.1, affine=True, track_running_stats=True)\n",
              "        (relu): ReLU(inplace=True)\n",
              "        (conv2): Conv2d(128, 128, kernel_size=(3, 3), stride=(1, 1), padding=(1, 1), bias=False)\n",
              "        (bn2): BatchNorm2d(128, eps=1e-05, momentum=0.1, affine=True, track_running_stats=True)\n",
              "      )\n",
              "      (2): BasicBlock(\n",
              "        (conv1): Conv2d(128, 128, kernel_size=(3, 3), stride=(1, 1), padding=(1, 1), bias=False)\n",
              "        (bn1): BatchNorm2d(128, eps=1e-05, momentum=0.1, affine=True, track_running_stats=True)\n",
              "        (relu): ReLU(inplace=True)\n",
              "        (conv2): Conv2d(128, 128, kernel_size=(3, 3), stride=(1, 1), padding=(1, 1), bias=False)\n",
              "        (bn2): BatchNorm2d(128, eps=1e-05, momentum=0.1, affine=True, track_running_stats=True)\n",
              "      )\n",
              "      (3): BasicBlock(\n",
              "        (conv1): Conv2d(128, 128, kernel_size=(3, 3), stride=(1, 1), padding=(1, 1), bias=False)\n",
              "        (bn1): BatchNorm2d(128, eps=1e-05, momentum=0.1, affine=True, track_running_stats=True)\n",
              "        (relu): ReLU(inplace=True)\n",
              "        (conv2): Conv2d(128, 128, kernel_size=(3, 3), stride=(1, 1), padding=(1, 1), bias=False)\n",
              "        (bn2): BatchNorm2d(128, eps=1e-05, momentum=0.1, affine=True, track_running_stats=True)\n",
              "      )\n",
              "    )\n",
              "    (layer3): Sequential(\n",
              "      (0): BasicBlock(\n",
              "        (conv1): Conv2d(128, 256, kernel_size=(3, 3), stride=(2, 2), padding=(1, 1), bias=False)\n",
              "        (bn1): BatchNorm2d(256, eps=1e-05, momentum=0.1, affine=True, track_running_stats=True)\n",
              "        (relu): ReLU(inplace=True)\n",
              "        (conv2): Conv2d(256, 256, kernel_size=(3, 3), stride=(1, 1), padding=(1, 1), bias=False)\n",
              "        (bn2): BatchNorm2d(256, eps=1e-05, momentum=0.1, affine=True, track_running_stats=True)\n",
              "        (downsample): Sequential(\n",
              "          (0): Conv2d(128, 256, kernel_size=(1, 1), stride=(2, 2), bias=False)\n",
              "          (1): BatchNorm2d(256, eps=1e-05, momentum=0.1, affine=True, track_running_stats=True)\n",
              "        )\n",
              "      )\n",
              "      (1): BasicBlock(\n",
              "        (conv1): Conv2d(256, 256, kernel_size=(3, 3), stride=(1, 1), padding=(1, 1), bias=False)\n",
              "        (bn1): BatchNorm2d(256, eps=1e-05, momentum=0.1, affine=True, track_running_stats=True)\n",
              "        (relu): ReLU(inplace=True)\n",
              "        (conv2): Conv2d(256, 256, kernel_size=(3, 3), stride=(1, 1), padding=(1, 1), bias=False)\n",
              "        (bn2): BatchNorm2d(256, eps=1e-05, momentum=0.1, affine=True, track_running_stats=True)\n",
              "      )\n",
              "      (2): BasicBlock(\n",
              "        (conv1): Conv2d(256, 256, kernel_size=(3, 3), stride=(1, 1), padding=(1, 1), bias=False)\n",
              "        (bn1): BatchNorm2d(256, eps=1e-05, momentum=0.1, affine=True, track_running_stats=True)\n",
              "        (relu): ReLU(inplace=True)\n",
              "        (conv2): Conv2d(256, 256, kernel_size=(3, 3), stride=(1, 1), padding=(1, 1), bias=False)\n",
              "        (bn2): BatchNorm2d(256, eps=1e-05, momentum=0.1, affine=True, track_running_stats=True)\n",
              "      )\n",
              "      (3): BasicBlock(\n",
              "        (conv1): Conv2d(256, 256, kernel_size=(3, 3), stride=(1, 1), padding=(1, 1), bias=False)\n",
              "        (bn1): BatchNorm2d(256, eps=1e-05, momentum=0.1, affine=True, track_running_stats=True)\n",
              "        (relu): ReLU(inplace=True)\n",
              "        (conv2): Conv2d(256, 256, kernel_size=(3, 3), stride=(1, 1), padding=(1, 1), bias=False)\n",
              "        (bn2): BatchNorm2d(256, eps=1e-05, momentum=0.1, affine=True, track_running_stats=True)\n",
              "      )\n",
              "      (4): BasicBlock(\n",
              "        (conv1): Conv2d(256, 256, kernel_size=(3, 3), stride=(1, 1), padding=(1, 1), bias=False)\n",
              "        (bn1): BatchNorm2d(256, eps=1e-05, momentum=0.1, affine=True, track_running_stats=True)\n",
              "        (relu): ReLU(inplace=True)\n",
              "        (conv2): Conv2d(256, 256, kernel_size=(3, 3), stride=(1, 1), padding=(1, 1), bias=False)\n",
              "        (bn2): BatchNorm2d(256, eps=1e-05, momentum=0.1, affine=True, track_running_stats=True)\n",
              "      )\n",
              "      (5): BasicBlock(\n",
              "        (conv1): Conv2d(256, 256, kernel_size=(3, 3), stride=(1, 1), padding=(1, 1), bias=False)\n",
              "        (bn1): BatchNorm2d(256, eps=1e-05, momentum=0.1, affine=True, track_running_stats=True)\n",
              "        (relu): ReLU(inplace=True)\n",
              "        (conv2): Conv2d(256, 256, kernel_size=(3, 3), stride=(1, 1), padding=(1, 1), bias=False)\n",
              "        (bn2): BatchNorm2d(256, eps=1e-05, momentum=0.1, affine=True, track_running_stats=True)\n",
              "      )\n",
              "    )\n",
              "    (layer4): Sequential(\n",
              "      (0): BasicBlock(\n",
              "        (conv1): Conv2d(256, 512, kernel_size=(3, 3), stride=(2, 2), padding=(1, 1), bias=False)\n",
              "        (bn1): BatchNorm2d(512, eps=1e-05, momentum=0.1, affine=True, track_running_stats=True)\n",
              "        (relu): ReLU(inplace=True)\n",
              "        (conv2): Conv2d(512, 512, kernel_size=(3, 3), stride=(1, 1), padding=(1, 1), bias=False)\n",
              "        (bn2): BatchNorm2d(512, eps=1e-05, momentum=0.1, affine=True, track_running_stats=True)\n",
              "        (downsample): Sequential(\n",
              "          (0): Conv2d(256, 512, kernel_size=(1, 1), stride=(2, 2), bias=False)\n",
              "          (1): BatchNorm2d(512, eps=1e-05, momentum=0.1, affine=True, track_running_stats=True)\n",
              "        )\n",
              "      )\n",
              "      (1): BasicBlock(\n",
              "        (conv1): Conv2d(512, 512, kernel_size=(3, 3), stride=(1, 1), padding=(1, 1), bias=False)\n",
              "        (bn1): BatchNorm2d(512, eps=1e-05, momentum=0.1, affine=True, track_running_stats=True)\n",
              "        (relu): ReLU(inplace=True)\n",
              "        (conv2): Conv2d(512, 512, kernel_size=(3, 3), stride=(1, 1), padding=(1, 1), bias=False)\n",
              "        (bn2): BatchNorm2d(512, eps=1e-05, momentum=0.1, affine=True, track_running_stats=True)\n",
              "      )\n",
              "      (2): BasicBlock(\n",
              "        (conv1): Conv2d(512, 512, kernel_size=(3, 3), stride=(1, 1), padding=(1, 1), bias=False)\n",
              "        (bn1): BatchNorm2d(512, eps=1e-05, momentum=0.1, affine=True, track_running_stats=True)\n",
              "        (relu): ReLU(inplace=True)\n",
              "        (conv2): Conv2d(512, 512, kernel_size=(3, 3), stride=(1, 1), padding=(1, 1), bias=False)\n",
              "        (bn2): BatchNorm2d(512, eps=1e-05, momentum=0.1, affine=True, track_running_stats=True)\n",
              "      )\n",
              "    )\n",
              "  )\n",
              "  (decoder): UnetDecoder(\n",
              "    (center): Identity()\n",
              "    (blocks): ModuleList(\n",
              "      (0): DecoderBlock(\n",
              "        (conv1): Conv2dReLU(\n",
              "          (0): Conv2d(768, 256, kernel_size=(3, 3), stride=(1, 1), padding=(1, 1), bias=False)\n",
              "          (1): BatchNorm2d(256, eps=1e-05, momentum=0.1, affine=True, track_running_stats=True)\n",
              "          (2): ReLU(inplace=True)\n",
              "        )\n",
              "        (attention1): Attention(\n",
              "          (attention): Identity()\n",
              "        )\n",
              "        (conv2): Conv2dReLU(\n",
              "          (0): Conv2d(256, 256, kernel_size=(3, 3), stride=(1, 1), padding=(1, 1), bias=False)\n",
              "          (1): BatchNorm2d(256, eps=1e-05, momentum=0.1, affine=True, track_running_stats=True)\n",
              "          (2): ReLU(inplace=True)\n",
              "        )\n",
              "        (attention2): Attention(\n",
              "          (attention): Identity()\n",
              "        )\n",
              "      )\n",
              "      (1): DecoderBlock(\n",
              "        (conv1): Conv2dReLU(\n",
              "          (0): Conv2d(384, 128, kernel_size=(3, 3), stride=(1, 1), padding=(1, 1), bias=False)\n",
              "          (1): BatchNorm2d(128, eps=1e-05, momentum=0.1, affine=True, track_running_stats=True)\n",
              "          (2): ReLU(inplace=True)\n",
              "        )\n",
              "        (attention1): Attention(\n",
              "          (attention): Identity()\n",
              "        )\n",
              "        (conv2): Conv2dReLU(\n",
              "          (0): Conv2d(128, 128, kernel_size=(3, 3), stride=(1, 1), padding=(1, 1), bias=False)\n",
              "          (1): BatchNorm2d(128, eps=1e-05, momentum=0.1, affine=True, track_running_stats=True)\n",
              "          (2): ReLU(inplace=True)\n",
              "        )\n",
              "        (attention2): Attention(\n",
              "          (attention): Identity()\n",
              "        )\n",
              "      )\n",
              "      (2): DecoderBlock(\n",
              "        (conv1): Conv2dReLU(\n",
              "          (0): Conv2d(192, 64, kernel_size=(3, 3), stride=(1, 1), padding=(1, 1), bias=False)\n",
              "          (1): BatchNorm2d(64, eps=1e-05, momentum=0.1, affine=True, track_running_stats=True)\n",
              "          (2): ReLU(inplace=True)\n",
              "        )\n",
              "        (attention1): Attention(\n",
              "          (attention): Identity()\n",
              "        )\n",
              "        (conv2): Conv2dReLU(\n",
              "          (0): Conv2d(64, 64, kernel_size=(3, 3), stride=(1, 1), padding=(1, 1), bias=False)\n",
              "          (1): BatchNorm2d(64, eps=1e-05, momentum=0.1, affine=True, track_running_stats=True)\n",
              "          (2): ReLU(inplace=True)\n",
              "        )\n",
              "        (attention2): Attention(\n",
              "          (attention): Identity()\n",
              "        )\n",
              "      )\n",
              "      (3): DecoderBlock(\n",
              "        (conv1): Conv2dReLU(\n",
              "          (0): Conv2d(128, 32, kernel_size=(3, 3), stride=(1, 1), padding=(1, 1), bias=False)\n",
              "          (1): BatchNorm2d(32, eps=1e-05, momentum=0.1, affine=True, track_running_stats=True)\n",
              "          (2): ReLU(inplace=True)\n",
              "        )\n",
              "        (attention1): Attention(\n",
              "          (attention): Identity()\n",
              "        )\n",
              "        (conv2): Conv2dReLU(\n",
              "          (0): Conv2d(32, 32, kernel_size=(3, 3), stride=(1, 1), padding=(1, 1), bias=False)\n",
              "          (1): BatchNorm2d(32, eps=1e-05, momentum=0.1, affine=True, track_running_stats=True)\n",
              "          (2): ReLU(inplace=True)\n",
              "        )\n",
              "        (attention2): Attention(\n",
              "          (attention): Identity()\n",
              "        )\n",
              "      )\n",
              "      (4): DecoderBlock(\n",
              "        (conv1): Conv2dReLU(\n",
              "          (0): Conv2d(32, 16, kernel_size=(3, 3), stride=(1, 1), padding=(1, 1), bias=False)\n",
              "          (1): BatchNorm2d(16, eps=1e-05, momentum=0.1, affine=True, track_running_stats=True)\n",
              "          (2): ReLU(inplace=True)\n",
              "        )\n",
              "        (attention1): Attention(\n",
              "          (attention): Identity()\n",
              "        )\n",
              "        (conv2): Conv2dReLU(\n",
              "          (0): Conv2d(16, 16, kernel_size=(3, 3), stride=(1, 1), padding=(1, 1), bias=False)\n",
              "          (1): BatchNorm2d(16, eps=1e-05, momentum=0.1, affine=True, track_running_stats=True)\n",
              "          (2): ReLU(inplace=True)\n",
              "        )\n",
              "        (attention2): Attention(\n",
              "          (attention): Identity()\n",
              "        )\n",
              "      )\n",
              "    )\n",
              "  )\n",
              "  (segmentation_head): SegmentationHead(\n",
              "    (0): Conv2d(16, 1, kernel_size=(3, 3), stride=(1, 1), padding=(1, 1))\n",
              "    (1): Identity()\n",
              "    (2): Activation(\n",
              "      (activation): Identity()\n",
              "    )\n",
              "  )\n",
              ")"
            ]
          },
          "metadata": {
            "tags": []
          },
          "execution_count": 62
        }
      ]
    },
    {
      "cell_type": "code",
      "metadata": {
        "id": "xYQoOBCzqWKY"
      },
      "source": [
        "def iou_binary(out, labels, EMPTY=1., ignore=None, per_image=True, threshold=0.5):\n",
        "    \"\"\"\n",
        "    IoU for foreground class\n",
        "    binary: 1 foreground, 0 background\n",
        "    \"\"\"\n",
        "    out = torch.sigmoid(out)\n",
        "    preds = (out.data > threshold).long()\n",
        "    if not per_image:\n",
        "        preds, labels = (preds,), (labels,)\n",
        "    ious = []\n",
        "    for pred, label in zip(preds, labels):\n",
        "        intersection = ((label == 1) & (pred == 1)).sum()\n",
        "        union = ((label == 1) | ((pred == 1) & (label != ignore))).sum()\n",
        "        if not union:\n",
        "            iou = EMPTY\n",
        "        else:\n",
        "            iou = float(intersection) / float(union)\n",
        "        ious.append(iou)\n",
        "    iou = np.mean(np.array(ious))    # mean accross images if per_image\n",
        "    return 100 * iou"
      ],
      "execution_count": null,
      "outputs": []
    },
    {
      "cell_type": "code",
      "metadata": {
        "id": "yWupfqW5qWKZ"
      },
      "source": [
        "iou_score_train = []\n",
        "dice_loss_train = []\n",
        "iou_score_val= []\n",
        "dice_loss_val = []\n",
        "\n",
        "best_iou_score = -np.inf\n",
        "for epoch in range(NUM_EPOCHS):  # loop over the dataset multiple times\n",
        "    running_loss = 0.0\n",
        "    ##training\n",
        "    model.train()\n",
        "    for i, data in enumerate(trainLoader, 0):\n",
        "\n",
        "        iou = []\n",
        "        loss_arr = []\n",
        "        # get the inputs; data is a list of [inputs, labels]\n",
        "        images = data['image']\n",
        "        masks = data['mask']\n",
        "\n",
        "        # zero the parameter gradients\n",
        "        optimizer.zero_grad()\n",
        "\n",
        "        # forward + backward + optimize\n",
        "        outputs = model(images)\n",
        "        loss = criterion(outputs, masks)\n",
        "        print(\"Training: Mini - Batch \",i,\"Loss\", loss.item())\n",
        "        with torch.no_grad():\n",
        "            outputs = model(images)\n",
        "            iou.append(iou_binary(outputs, masks, per_image=True, threshold=0.59))\n",
        "            loss_arr.append(loss.item())\n",
        "\n",
        "        loss.backward()\n",
        "        optimizer.step()\n",
        "\n",
        "        running_loss += loss.item()\n",
        "        \n",
        "    iou_score_train.append(np.mean(iou))\n",
        "    dice_loss_train.append(np.mean(loss_arr))\n",
        "\n",
        "    ##evaluation\n",
        "    model.eval()\n",
        "    with torch.no_grad():\n",
        "        iou = []\n",
        "        loss_arr = []\n",
        "        for k, data in enumerate(valLoader, 0):\n",
        "            # get the inputs; data is a list of [inputs, labels]\n",
        "            images = data['image'].to(device)\n",
        "            masks = data['mask'].to(device)\n",
        "            # scatters = data['scatter']\n",
        "\n",
        "            outputs = model(images)\n",
        "            loss = criterion(outputs, masks)\n",
        "            print(\"Validation: Mini - Batch \",k,\"Loss\", loss.item())\n",
        "\n",
        "            outputs = model(images)\n",
        "            iou.append(iou_binary(outputs, masks, per_image=True, threshold=0.59))\n",
        "            loss_arr.append(loss.item())\n",
        "   \n",
        "    iou_score_val.append(np.mean(iou))\n",
        "    dice_loss_val.append(np.mean(loss_arr))\n",
        "\n",
        "    with open('/content/drive/MyDrive/cv/anushree/HC-18/best-model_unet-smp/epoch_iousAndArrays.pkl', 'wb') as fid:\n",
        "        pickle.dump({'iou_score_train':iou_score_train, 'dice_loss_train': dice_loss_train, 'iou_score_val':iou_score_val, 'dice_loss_val':dice_loss_val}, fid)\n",
        "\n",
        "    if epoch % 1 == 0:\n",
        "        print(\"Epoch [{}]: Train - iou: {}, loss: {}; Val - iou: {}, loss: {}\".format(epoch, iou_score_train[-1], dice_loss_train[-1], iou_score_val[-1], dice_loss_val[-1]))\n",
        "        running_loss = 0.0\n",
        "    \n",
        "\n",
        "    if iou_score_val[-1]>best_iou_score:\n",
        "        best_iou_score = iou_score_val[-1]\n",
        "        torch.save(model.state_dict(), \"/content/drive/MyDrive/cv/anushree/HC-18/best-model_unet-smp/best-model\")\n",
        "        with open('/content/drive/MyDrive/cv/anushree/HC-18/best-model_unet-smp/best_iou.pkl', 'wb') as fid:\n",
        "            pickle.dump(best_iou_score, fid)\n",
        "    \n",
        "\n",
        "print('Finished Training')"
      ],
      "execution_count": null,
      "outputs": []
    },
    {
      "cell_type": "code",
      "metadata": {
        "id": "CAUMQo7TqWKa"
      },
      "source": [
        "print(best_iou_score)"
      ],
      "execution_count": null,
      "outputs": []
    },
    {
      "cell_type": "code",
      "metadata": {
        "id": "eXXkIB1OqWKa"
      },
      "source": [
        "with open('/content/drive/MyDrive/cv/anushree/HC-18/best-model_unet-smp/epoch_iousAndArrays.pkl', 'rb') as fid:\n",
        "    data = pickle.load(fid)\n",
        "    iou_score_train = data['iou_score_train']\n",
        "    dice_loss_train = data['dice_loss_train']\n",
        "    iou_score_val = data['iou_score_val']\n",
        "    dice_loss_val = data['dice_loss_val']\n",
        "    print(dice_loss_val[np.argmax(iou_score_val)])\n",
        "    print(np.max(iou_score_val))"
      ],
      "execution_count": null,
      "outputs": []
    },
    {
      "cell_type": "code",
      "metadata": {
        "id": "RSIjMoYsqWKb"
      },
      "source": [
        "epoch_train_losses = dice_loss_train\n",
        "epoch_train_iou = iou_score_train\n",
        "epoch_val_losses = dice_loss_val\n",
        "epoch_val_iou = iou_score_val\n",
        "print(epoch_train_losses)\n",
        "print(epoch_train_iou)\n",
        "print(epoch_val_losses)\n",
        "print(epoch_val_iou)\n",
        "\n",
        "def plot(scores, name):\n",
        "    plt.figure(figsize=(15,5))\n",
        "    plt.plot(range(len(scores)), scores, label=f'train {name}')\n",
        "    #plt.plot(range(len(scores[\"train\"])), scores[\"val\"], label=f'val {name}')\n",
        "    plt.title(f'{name} plot'); plt.xlabel('Epoch'); plt.ylabel(f'{name}');\n",
        "    plt.legend(); \n",
        "    plt.show()"
      ],
      "execution_count": null,
      "outputs": []
    },
    {
      "cell_type": "code",
      "metadata": {
        "id": "_Cx_n0pXqWKc"
      },
      "source": [
        "#25epochs-test_train split\n",
        "plot(epoch_train_losses, \"Training loss\")\n",
        "plot(epoch_train_iou, \"Training-iou score\")\n",
        "plot(epoch_val_losses, \"Val loss\")\n",
        "plot(epoch_val_iou, \"Val-iou score\")"
      ],
      "execution_count": null,
      "outputs": []
    },
    {
      "cell_type": "code",
      "metadata": {
        "id": "dZqzYJrBqWKc",
        "colab": {
          "base_uri": "https://localhost:8080/"
        },
        "outputId": "1bdeace2-822c-4216-8bd7-73393dfe2355"
      },
      "source": [
        "model.load_state_dict(torch.load('/content/drive/MyDrive/cv/anushree/HC-18/best-model_unet-smp(dont touch)/best-model'))"
      ],
      "execution_count": null,
      "outputs": [
        {
          "output_type": "execute_result",
          "data": {
            "text/plain": [
              "<All keys matched successfully>"
            ]
          },
          "metadata": {
            "tags": []
          },
          "execution_count": 64
        }
      ]
    },
    {
      "cell_type": "code",
      "metadata": {
        "id": "NoWd_hwgqWKd",
        "colab": {
          "base_uri": "https://localhost:8080/",
          "height": 598
        },
        "outputId": "7ba1b76e-1d0b-4d29-a8bb-fcf34648e829"
      },
      "source": [
        "# evaluate model:\n",
        "model.eval()\n",
        "iou = []\n",
        "with torch.no_grad():\n",
        "    for k, data in enumerate(valLoader, 0):\n",
        "        # get the inputs; data is a list of [inputs, labels]\n",
        "        images = data['image'].to(device)\n",
        "        masks = data['mask'].to(device)\n",
        "        # scatters = data['scatter']\n",
        "\n",
        "        # forward + backward + optimize\n",
        "        # print(\"image:\",images.shape)\n",
        "        # print(\"masks:\",masks.shape)\n",
        "        outputs = model(images)\n",
        "        iou.append(iou_binary(outputs, masks, per_image=True, threshold=0.59))\n",
        "\n",
        "\n",
        "        # loss = criterion(out, masks)\n",
        "        # print(\"Mini - Batch \",k,\"Loss\", loss.item())\n",
        "        # print(\"output:\",outputs.shape)\n",
        "\n",
        "        # Detach\n",
        "        # print(images[0].shape)\n",
        "        \n",
        "        # Plot and see\n",
        "        \n",
        "\n",
        "        # i = 0\n",
        "        for i in range(images.shape[0]):\n",
        "            f, ax = plt.subplots(1,3,figsize=(10,10))\n",
        "            \n",
        "            ax[0].axis('off')\n",
        "            ax[0].set_title('Original image')\n",
        "            ax[1].axis('off')\n",
        "            ax[1].set_title('Target mask')\n",
        "            ax[2].axis('off')\n",
        "            ax[2].set_title('Predicted mask')\n",
        "            image = transforms.ToPILImage()(images[i])\n",
        "            ax[0].imshow(image,cmap='gray')\n",
        "            mask = transforms.ToPILImage()(masks[i])\n",
        "\n",
        "            ax[1].imshow(mask,cmap='gray')\n",
        "            output = torch.sigmoid(outputs[i])\n",
        "            output = (output.data > 0.59).long()\n",
        "            # print(output)\n",
        "            # output = transforms.ToPILImage()(output)\n",
        "            output = torch.squeeze(output, 0)\n",
        "\n",
        "            ax[2].imshow(output.cpu(),cmap='gray')\n",
        "            plt.show()\n",
        "\n",
        "        # i = 1\n",
        "        # image = transforms.ToPILImage()(images[i])\n",
        "        # plt.subplot(3,3,3*i+1)\n",
        "        # plt.imshow(image, 'gray')\n",
        "        # mask = transforms.ToPILImage()(masks[i])\n",
        "        # plt.subplot(3,3,3*i+2)\n",
        "        # plt.imshow(mask,cmap='gray')\n",
        "        # output = torch.sigmoid(outputs[i])\n",
        "        # output = (output.data > 0.57).long()\n",
        "        # print(output)\n",
        "        # # output = transforms.ToPILImage()(output)\n",
        "        # output = torch.squeeze(output, 0)\n",
        "        # # output = transforms.ToPILImage()(outputs[i])\n",
        "        # plt.subplot(3,3,3*i+3)\n",
        "        # plt.imshow(output.cpu(),cmap='gray')\n",
        "\n",
        "        # i = 2\n",
        "        # image = transforms.ToPILImage()(images[i])\n",
        "        # plt.subplot(3,3,3*i+1)\n",
        "        # plt.imshow(image, 'gray')\n",
        "        # mask = transforms.ToPILImage()(masks[i])\n",
        "        # plt.subplot(3,3,3*i+2)\n",
        "        # plt.imshow(mask,cmap='gray')\n",
        "        # # output = transforms.ToPILImage()(outputs[i])\n",
        "        # # output=np.array(output)\n",
        "        # # output[output>75]=255\n",
        "        # # output[output<=75]=0\n",
        "        # output = torch.sigmoid(outputs[i])\n",
        "        # output = (output.data > 0.57).long()\n",
        "        # print(output)co\n",
        "        # # output = transforms.ToPILImage()(output)\n",
        "        # output = torch.squeeze(output, 0)\n",
        "        # plt.subplot(3,3,3*i+3)\n",
        "        # plt.imshow(output.cpu(),cmap='gray')\n",
        "        # # print(np.array(output))\n",
        "    \n",
        "        # # print(output.max())\n",
        "        # # print(output.mean())\n",
        "        break\n",
        "\n",
        "print('Finished Evaluation')\n",
        "# print('iou:',np.mean(iou))"
      ],
      "execution_count": null,
      "outputs": [
        {
          "output_type": "display_data",
          "data": {
            "image/png": "[encoded data removed]",
            "text/plain": [
              "<Figure size 720x720 with 3 Axes>"
            ]
          },
          "metadata": {
            "tags": [],
            "needs_background": "light"
          }
        },
        {
          "output_type": "display_data",
          "data": {
            "image/png": "[encoded data removed]",
            "text/plain": [
              "<Figure size 720x720 with 3 Axes>"
            ]
          },
          "metadata": {
            "tags": [],
            "needs_background": "light"
          }
        },
        {
          "output_type": "display_data",
          "data": {
            "image/png": "[encoded data removed]",
            "text/plain": [
              "<Figure size 720x720 with 3 Axes>"
            ]
          },
          "metadata": {
            "tags": [],
            "needs_background": "light"
          }
        },
        {
          "output_type": "display_data",
          "data": {
            "image/png": "[encoded data removed]",
            "text/plain": [
              "<Figure size 720x720 with 3 Axes>"
            ]
          },
          "metadata": {
            "tags": [],
            "needs_background": "light"
          }
        },
        {
          "output_type": "stream",
          "text": [
            "Finished Evaluation\n"
          ],
          "name": "stdout"
        }
      ]
    }
  ]
}